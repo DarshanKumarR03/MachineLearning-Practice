{
 "cells": [
  {
   "cell_type": "markdown",
   "id": "74c5d021",
   "metadata": {},
   "source": [
    "# Answer for Question 1\n"
   ]
  },
  {
   "cell_type": "markdown",
   "id": "b7bd00c6",
   "metadata": {},
   "source": [
    "### Artifical_Intelligence:-\n",
    "        Artificial intelligence (AI) is the ability of a computer or a robot controlled by a computer to do tasks that are usually done by humans because they require human intelligence and discernment.Using AI  we can do the work which is done by humans`\n",
    "### Machine_Learning:- \n",
    "        Machine learning is a branch of artificial intelligence (AI) and computer science which focuses on the use of data and algorithms to imitate the way that humans learn, gradually improving its accuracy`\n",
    "\n",
    "### Deep_Learning:-\n",
    "        `a type of machine learning based on artificial neural networks in which multiple layers of processing are used to extract progressively higher level features from data.`"
   ]
  },
  {
   "cell_type": "markdown",
   "id": "83a6cf4d",
   "metadata": {},
   "source": [
    "# Answer for Question 2"
   ]
  },
  {
   "cell_type": "markdown",
   "id": "65924920",
   "metadata": {},
   "source": [
    "### Supervised_Learning\n",
    "        Supervised learning is a type of machine learning approach in which an algorithm learns from a labeled dataset to make predictions or decisions on new, unseen data. The process involves training the model using input-output pairs, where the input (also called features) and the corresponding output (also called labels or targets) are provided during the training phase.\n",
    "        \n",
    "        Examples:\n",
    "                Email Spam Detection\n",
    "                Handwritten Digit Recognition\n",
    "                Credit Card Fraud Detection\n",
    "                Stock Price Prediction\n",
    "                Medical Diagnosis\n",
    "                Sentiment Analysis\n",
    "                Language Translation\n",
    "                Loan Default Prediction\n",
    "                Object Detection\n",
    "                Weather Forecasting"
   ]
  },
  {
   "cell_type": "markdown",
   "id": "ed93fad6",
   "metadata": {},
   "source": [
    "# Answer for Question 3"
   ]
  },
  {
   "cell_type": "markdown",
   "id": "e807ab24",
   "metadata": {},
   "source": [
    "### Unsupervised_Learning\n",
    "        Unsupervised learning is a machine learning paradigm where the algorithm learns from unlabeled data to find patterns, relationships, or structure within the data. Unlike supervised learning, there are no pre-labeled outputs provided during the training phase. The objective of unsupervised learning is to explore and understand the underlying distribution of the data without explicit guidance.\n",
    "        Example:\n",
    "                Customer segmentation for targeted marketing.\n",
    "                Grouping similar news articles or documents for topic analysis.\n",
    "                Identifying patterns in user behavior for personalized recommendations."
   ]
  },
  {
   "cell_type": "markdown",
   "id": "4f4ec8bb",
   "metadata": {},
   "source": [
    "# Answer for Question 4"
   ]
  },
  {
   "cell_type": "markdown",
   "id": "a0666ce7",
   "metadata": {},
   "source": [
    "### Artificial Intelligence (AI):\n",
    "        AI is a broad field of computer science that aims to create machines or systems that can mimic human-like intelligence and behavior. It encompasses various techniques and methodologies to develop intelligent systems capable of understanding, reasoning, learning, and problem-solving. AI systems can adapt and improve their performance based on experience. Machine Learning and Deep Learning are subfields of AI.\n",
    "\n",
    "### Machine Learning (ML):\n",
    "        ML is a subset of AI that focuses on the development of algorithms and statistical models that enable computers to learn from data without being explicitly programmed. ML algorithms learn patterns and relationships from labeled or unlabeled data and use this knowledge to make predictions or decisions on new, unseen data. Supervised learning, unsupervised learning, and reinforcement learning are common types of ML approaches.\n",
    "\n",
    "### Deep Learning (DL):\n",
    "        DL is a specialized subfield of ML that involves training artificial neural networks to learn hierarchical representations from data. Deep learning models are composed of multiple layers, allowing them to learn complex features and abstractions. DL has shown significant advancements in areas like image recognition, natural language processing, and speech recognition.\n",
    "\n",
    "### Data Science (DS):\n",
    "        Data Science is an interdisciplinary field that combines techniques from statistics, ML, and domain knowledge to extract insights and knowledge from data. Data scientists use various methods, tools, and algorithms to collect, clean, analyze, and interpret data to solve complex problems and support decision-making processes. It includes tasks such as data wrangling, data visualization, predictive modeling, and statistical analysis."
   ]
  },
  {
   "cell_type": "markdown",
   "id": "34c96122",
   "metadata": {},
   "source": [
    "# Answer for Question 5"
   ]
  },
  {
   "cell_type": "markdown",
   "id": "97c9d806",
   "metadata": {},
   "source": [
    "### Supervised Learning:\n",
    "\n",
    "`Data: In supervised learning, the algorithm is trained on a labeled dataset, where each input data point is associated with a corresponding output label or target. The model learns to map inputs to known outputs during training.`\n",
    "\n",
    "`Learning Task: The primary objective of supervised learning is to learn a mapping function from input to output in order to make accurate predictions or classifications on new, unseen data.`\n",
    "\n",
    "`Examples: Image classification, spam detection, regression tasks like predicting house prices.`\n",
    "\n",
    "### Unsupervised Learning:\n",
    "\n",
    "`Data: Unsupervised learning uses an unlabeled dataset, where there are no explicit output labels provided during training. The algorithm must discover patterns, structures, or relationships within the data on its own.`\n",
    "\n",
    "`Learning Task: The primary goal of unsupervised learning is to find meaningful representations of the data or to group similar data points together without predefined categories or labels.`\n",
    "\n",
    "`Examples: Clustering data into groups, anomaly detection, dimensionality reduction`.\n",
    "\n",
    "### Semi-Supervised Learning:\n",
    "\n",
    "`Data: Semi-supervised learning is a combination of supervised and unsupervised learning. It uses a dataset that contains both labeled and unlabeled data points, with the majority being unlabeled.`\n",
    "\n",
    "`Learning Task: The objective is to use the limited labeled data along with the larger unlabeled dataset to improve the model's performance, leveraging the patterns learned from the unsupervised part to enhance the supervised learning process.`\n",
    "\n",
    "`Examples: Speech recognition, text classification, and some natural language processing tasks where labeled data is scarce`."
   ]
  },
  {
   "cell_type": "markdown",
   "id": "9431f06e",
   "metadata": {},
   "source": [
    "# Answer for Question 6"
   ]
  },
  {
   "cell_type": "markdown",
   "id": "a5ba87c8",
   "metadata": {},
   "source": [
    "### Training Set: \n",
    "        The training set is vital as it forms the foundation for the model to learn patterns and relationships from the labeled data. The better the model learns from the training set, the better it will perform on unseen data during real-world usage.\n",
    "\n",
    "### Test Set: \n",
    "        The test set is crucial for assessing the model's generalization ability. By evaluating the model on unseen data, we can estimate its performance in real-world scenarios. It helps identify any issues with overfitting, which occurs when the model memorizes the training data but fails to generalize to new data.\n",
    "\n",
    "### Validation Set: \n",
    "        The validation set is essential for model selection and hyperparameter tuning. It allows us to fine-tune the model's hyperparameters to achieve the best performance without introducing bias by using the test set for this purpose."
   ]
  },
  {
   "cell_type": "markdown",
   "id": "6c07b5e1",
   "metadata": {},
   "source": [
    "# Answer for Question 8"
   ]
  },
  {
   "cell_type": "markdown",
   "id": "b402dadc",
   "metadata": {},
   "source": [
    "### Supervised Learning Algorithms:\n",
    "\n",
    "        Linear Regression: A simple regression algorithm used for predicting continuous numerical values based on input features.\n",
    "\n",
    "        Logistic Regression: A classification algorithm used to predict binary or multiclass labels.\n",
    "\n",
    "        Decision Trees: A versatile algorithm for both regression and classification tasks, using a tree-like structure to make decisions.\n",
    "\n",
    "        Random Forest: An ensemble method that combines multiple decision trees to improve prediction accuracy and reduce overfitting.\n",
    "\n",
    "        Support Vector Machines (SVM): A powerful algorithm for classification and regression tasks, aiming to find the best hyperplane that separates data into different classes.\n",
    "\n",
    "        K-Nearest Neighbors (KNN): A lazy learning algorithm that classifies data points based on the majority class of its k nearest neighbors.\n",
    "\n",
    "        Gradient Boosting Machines (GBM): An ensemble method that builds multiple weak learners sequentially, boosting the model's overall performance.\n",
    "\n",
    "           Neural Networks: Deep learning models composed of multiple layers of interconnected nodes, capable of handling complex tasks like image and speech recognition.\n",
    "\n",
    "### Unsupervised Learning Algorithms:\n",
    "\n",
    "        K-Means Clustering: Divides data into K clusters based on similarity.\n",
    "\n",
    "        Hierarchical Clustering: Creates a tree-like structure of nested clusters.\n",
    "\n",
    "        Principal Component Analysis (PCA): Reduces the dimensionality of data while preserving important information.\n",
    "\n",
    "        Gaussian Mixture Models (GMM): Models data distribution as a mixture of several Gaussian distributions.\n",
    "\n",
    "        t-Distributed Stochastic Neighbor Embedding (t-SNE): Dimensionality reduction technique used for visualization of high-dimensional data.\n",
    "\n",
    "        DBSCAN (Density-Based Spatial Clustering of Applications with Noise): Clusters data based on density and identifies outliers as noise.\n",
    "\n",
    "        Autoencoders: Neural network models used for unsupervised feature learning and data compression.\n",
    "\n",
    "        Apriori Algorithm: Used for association rule mining to discover interesting relationships between items in a dataset."
   ]
  },
  {
   "cell_type": "markdown",
   "id": "6ee07da2",
   "metadata": {},
   "source": [
    "# Answer for Question 7"
   ]
  },
  {
   "cell_type": "markdown",
   "id": "c41665ff",
   "metadata": {},
   "source": [
    "### Supervised learning algorithms\n",
    "\n",
    "        It can be used for anomaly detection by treating it as a binary classification problem. Anomaly detection involves identifying rare or unusual data points that deviate significantly from the normal or expected behavior\n"
   ]
  },
  {
   "cell_type": "markdown",
   "id": "e7b22e1b",
   "metadata": {},
   "source": []
  },
  {
   "cell_type": "markdown",
   "id": "0e014b97",
   "metadata": {},
   "source": []
  }
 ],
 "metadata": {
  "kernelspec": {
   "display_name": "Python 3 (ipykernel)",
   "language": "python",
   "name": "python3"
  },
  "language_info": {
   "codemirror_mode": {
    "name": "ipython",
    "version": 3
   },
   "file_extension": ".py",
   "mimetype": "text/x-python",
   "name": "python",
   "nbconvert_exporter": "python",
   "pygments_lexer": "ipython3",
   "version": "3.11.3"
  }
 },
 "nbformat": 4,
 "nbformat_minor": 5
}
